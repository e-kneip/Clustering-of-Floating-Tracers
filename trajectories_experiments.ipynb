{
 "cells": [
  {
   "cell_type": "code",
   "execution_count": 8,
   "metadata": {},
   "outputs": [],
   "source": [
    "from rossby_waves import *\n",
    "from math import floor\n",
    "import numpy as np\n",
    "import matplotlib.pyplot as plt\n",
    "import matplotlib.gridspec as gridspec\n",
    "from rossby_waves.rossby_waves import amplitude, dispersion, grid, trajectory, trajectories, vel, trajectory2\n",
    "from matplotlib.animation import FuncAnimation, PillowWriter"
   ]
  },
  {
   "cell_type": "code",
   "execution_count": 9,
   "metadata": {},
   "outputs": [],
   "source": [
    "#ro is RossbyOcean of grid of Rossbywaves, should be periodic\n",
    "r = RossbyWave(np.array([5, 5]))\n",
    "ro = RossbyOcean([r])\n",
    "ro.add_grid_waves()\n",
    "ro.remove_wave(0)\n",
    "#grid of 3x3 points\n",
    "testgrid = grid(3)"
   ]
  },
  {
   "cell_type": "code",
   "execution_count": 10,
   "metadata": {},
   "outputs": [],
   "source": [
    "#coordinates of trajectory starting at (1,0) and (1.2,3.09)\n",
    "x0 = np.array([[1,0], [1.2,3.09]])\n",
    "x, y = trajectory(ro, x0, 0, 0.05, 1/4000, eps=0)\n"
   ]
  },
  {
   "cell_type": "code",
   "execution_count": 11,
   "metadata": {},
   "outputs": [],
   "source": [
    "#testing\n",
    "x0 = np.array([1.2,3.09])\n",
    "x_, y_ = trajectory2(ro, x0, 0, 0.05, 1/4000, solenoidal=True)"
   ]
  },
  {
   "cell_type": "code",
   "execution_count": 12,
   "metadata": {},
   "outputs": [
    {
     "data": {
      "text/plain": [
       "True"
      ]
     },
     "execution_count": 12,
     "metadata": {},
     "output_type": "execute_result"
    }
   ],
   "source": [
    "y_ == y[1]"
   ]
  },
  {
   "cell_type": "code",
   "execution_count": 13,
   "metadata": {},
   "outputs": [],
   "source": [
    "#x, y coordinates of trajectory starting at 3x3 grid\n",
    "x, y = trajectory(ro, testgrid, 0, 0.1, 1/4000, eps=0)"
   ]
  },
  {
   "cell_type": "code",
   "execution_count": 45,
   "metadata": {},
   "outputs": [],
   "source": [
    "#testing\n",
    "x_list = [None]*9\n",
    "y_list = [None]*9\n",
    "\n",
    "for i in range(9):\n",
    "    x0 = testgrid2[i]\n",
    "    x_, y_ = trajectory2(ro, x0, 0, 0.1, 1/4000, solenoidal=True)\n",
    "    x_list[i], y_list[i] = x_, y_"
   ]
  },
  {
   "cell_type": "code",
   "execution_count": 53,
   "metadata": {},
   "outputs": [],
   "source": [
    "x, y = trajectory(ro, grid(1), 0, 0.1, 1/4000, solenoidal=True)"
   ]
  },
  {
   "cell_type": "code",
   "execution_count": 57,
   "metadata": {},
   "outputs": [
    {
     "data": {
      "image/png": "[encoded data removed]",
      "text/plain": [
       "<Figure size 432x288 with 1 Axes>"
      ]
     },
     "metadata": {
      "needs_background": "light"
     },
     "output_type": "display_data"
    }
   ],
   "source": [
    "x0 = np.array([[1,0]])\n",
    "#animation attempt of one particle\n",
    "fig, ax = plt.subplots(1)\n",
    "ax.set(xlim=(-np.pi, np.pi), ylim=(-np.pi, np.pi))\n",
    "\n",
    "x, y = trajectory(ro, x0, 0, 0.05, 1/4000, eps=1)\n",
    "X, Y = np.meshgrid(np.linspace(-np.pi, np.pi, 20), np.linspace(-np.pi, np.pi, 20))\n",
    "u, v = ro.velocity(X, Y, 0, solenoidal=True)\n",
    "ax.quiver(X, Y, u, v)\n",
    "\n",
    "def init_func():\n",
    "    plt.cla()\n",
    "\n",
    "def update_plot(i):\n",
    "    plt.cla()\n",
    "    ax.set(xlim=(-np.pi, np.pi), ylim=(-np.pi, np.pi))\n",
    "    plt.scatter(x[0][i], y[0][i])\n",
    "    ax.quiver(X, Y, u, v)\n",
    "\n",
    "anim = FuncAnimation(fig, update_plot, frames=np.arange(0, len(x[0])), init_func=init_func)\n",
    "\n",
    "writergif = PillowWriter(fps=30)\n",
    "anim.save('testing.gif', writer=writergif)"
   ]
  },
  {
   "cell_type": "code",
   "execution_count": 5,
   "metadata": {},
   "outputs": [
    {
     "data": {
      "image/png": "[encoded data removed]",
      "text/plain": [
       "<Figure size 432x288 with 1 Axes>"
      ]
     },
     "metadata": {
      "needs_background": "light"
     },
     "output_type": "display_data"
    }
   ],
   "source": [
    "#animation attempt of position of multiple particles\n",
    "x0 = grid(100)\n",
    "fig, ax = plt.subplots(1)\n",
    "ax.set(xlim=(-np.pi, np.pi), ylim=(-np.pi, np.pi))\n",
    "x_list, y_list = trajectory(ro, x0, 0, 0.05, 1/4000, eps=0.1)\n",
    "\n",
    "#X, Y = np.meshgrid(np.linspace(-np.pi, np.pi, 20), np.linspace(-np.pi, np.pi, 20))\n",
    "#u, v = ro.velocity(X, Y, 0, solenoidal=True)\n",
    "#ax.quiver(X, Y, u, v)\n",
    "\n",
    "def init_func():\n",
    "    plt.cla()\n",
    "\n",
    "def update_plot(i):\n",
    "    plt.cla()\n",
    "\n",
    "    x_traj = []\n",
    "    for coord_list in x_list:\n",
    "        x_traj.append(coord_list[i])\n",
    "    y_traj = []\n",
    "    for coord_list in y_list:\n",
    "        y_traj.append(coord_list[i])\n",
    "    ax.set(xlim=(-np.pi, np.pi), ylim=(-np.pi, np.pi))\n",
    "    plt.scatter(x_traj, y_traj, s = 0.1)\n",
    "    #ax.quiver(X, Y, u, v)\n",
    "\n",
    "anim = FuncAnimation(fig, update_plot, frames=np.arange(0, len(x_list[0])), init_func=init_func)\n",
    "\n",
    "writergif = PillowWriter(fps=30)\n",
    "anim.save('testing.gif', writer=writergif)\n"
   ]
  },
  {
   "cell_type": "code",
   "execution_count": 6,
   "metadata": {},
   "outputs": [
    {
     "data": {
      "image/png": "[encoded data removed]",
      "text/plain": [
       "<Figure size 432x288 with 1 Axes>"
      ]
     },
     "metadata": {
      "needs_background": "light"
     },
     "output_type": "display_data"
    }
   ],
   "source": [
    "#animation attempt of trajectories\n",
    "x0 = grid(100)\n",
    "fig, ax = plt.subplots(1)\n",
    "ax.set(xlim=(-np.pi, np.pi), ylim=(-np.pi, np.pi))\n",
    "x_list, y_list = trajectory(ro, x0, 0, 0.01, 1/4000, solenoidal=True)\n",
    "\n",
    "#X, Y = np.meshgrid(np.linspace(-np.pi, np.pi, 20), np.linspace(-np.pi, np.pi, 20))\n",
    "#u, v = ro.velocity(X, Y, 0, solenoidal=True)\n",
    "#ax.quiver(X, Y, u, v)\n",
    "x_traj, y_traj = [], []\n",
    "def init_func():\n",
    "    plt.cla()\n",
    "\n",
    "def update_plot(i):\n",
    "    plt.cla()\n",
    "    for coord_list in x_list:\n",
    "        x_traj.append(coord_list[i])\n",
    "    for coord_list in y_list:\n",
    "        y_traj.append(coord_list[i])\n",
    "    ax.set(xlim=(-np.pi, np.pi), ylim=(-np.pi, np.pi))\n",
    "    plt.scatter(x_traj, y_traj, s = 0.2)\n",
    "    #ax.quiver(X, Y, u, v)\n",
    "\n",
    "anim = FuncAnimation(fig, update_plot, frames=np.arange(0, len(x_list[0])), init_func=init_func)\n",
    "\n",
    "writergif = PillowWriter(fps=30)\n",
    "anim.save('testing.gif', writer=writergif)"
   ]
  },
  {
   "cell_type": "code",
   "execution_count": null,
   "metadata": {},
   "outputs": [],
   "source": []
  }
 ],
 "metadata": {
  "interpreter": {
   "hash": "3067ead486e059ec00ffe7555bdb889e6e264a24dc711bf108106cc7baee8d5d"
  },
  "kernelspec": {
   "display_name": "Python 3.8.3 ('base')",
   "language": "python",
   "name": "python3"
  },
  "language_info": {
   "codemirror_mode": {
    "name": "ipython",
    "version": 3
   },
   "file_extension": ".py",
   "mimetype": "text/x-python",
   "name": "python",
   "nbconvert_exporter": "python",
   "pygments_lexer": "ipython3",
   "version": "3.8.3"
  },
  "orig_nbformat": 4
 },
 "nbformat": 4,
 "nbformat_minor": 2
}
