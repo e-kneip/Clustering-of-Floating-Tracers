{
 "cells": [
  {
   "cell_type": "code",
   "execution_count": 1,
   "metadata": {},
   "outputs": [],
   "source": [
    "from rossby_waves import *\n",
    "from math import floor\n",
    "import numpy as np\n",
    "import matplotlib.pyplot as plt\n",
    "import matplotlib as mpl\n",
    "import matplotlib.gridspec as gridspec\n",
    "from rossby_waves.rossby_waves import amplitude, dispersion, grid, trajectory, vel, vel_den, trajectory_den\n",
    "from matplotlib.animation import FuncAnimation, PillowWriter"
   ]
  },
  {
   "cell_type": "code",
   "execution_count": 95,
   "metadata": {},
   "outputs": [],
   "source": [
    "#11x11 rossby waves\n",
    "r = RossbyWave(np.array([5, 5]))\n",
    "ro = RossbyOcean([r])\n",
    "ro.add_grid_waves(xlim=(-5, 5, 11), ylim=(-5, 5, 11))\n",
    "ro.remove_wave(0)\n"
   ]
  },
  {
   "cell_type": "code",
   "execution_count": 99,
   "metadata": {},
   "outputs": [
    {
     "data": {
      "text/plain": [
       "2.412964689945991e-11"
      ]
     },
     "execution_count": 99,
     "metadata": {},
     "output_type": "execute_result"
    }
   ],
   "source": [
    "#rms of velocity w alpha = 1e-13\n",
    "v = vel(ro, grid(10), 0)\n",
    "vel_list = []\n",
    "for i in v:\n",
    "    vel_list.append(np.sqrt(i[0]**2 + i[1]**2))\n",
    "a = np.array(vel_list)\n",
    "np.sqrt(np.sum(a**2)/len(vel_list))"
   ]
  },
  {
   "cell_type": "code",
   "execution_count": 100,
   "metadata": {},
   "outputs": [
    {
     "data": {
      "image/png": "[encoded data removed]",
      "text/plain": [
       "<Figure size 432x288 with 1 Axes>"
      ]
     },
     "metadata": {
      "needs_background": "light"
     },
     "output_type": "display_data"
    }
   ],
   "source": [
    "#animation of positions of particles \n",
    "x0 = grid(100)\n",
    "fig, ax = plt.subplots(1)\n",
    "ax.set(xlim=(-np.pi, np.pi), ylim=(-np.pi, np.pi))\n",
    "x_list, y_list = trajectory(ro, x0, 0, 5e11, 2.5e9, eps=0.01)\n",
    "\n",
    "def init_func():\n",
    "    plt.cla()\n",
    "\n",
    "def update_plot(i):\n",
    "    plt.cla()\n",
    "\n",
    "    x_traj = []\n",
    "    for coord_list in x_list:\n",
    "        x_traj.append(coord_list[i])\n",
    "    y_traj = []\n",
    "    for coord_list in y_list:\n",
    "        y_traj.append(coord_list[i])\n",
    "    ax.set(xlim=(-np.pi, np.pi), ylim=(-np.pi, np.pi))\n",
    "    plt.scatter(x_traj, y_traj, s = 0.1)\n",
    "\n",
    "anim = FuncAnimation(fig, update_plot, frames=np.arange(0, len(x_list[0])), init_func=init_func)\n",
    "\n",
    "writergif = PillowWriter(fps=30)\n",
    "anim.save('testing.gif', writer=writergif)"
   ]
  },
  {
   "cell_type": "code",
   "execution_count": 102,
   "metadata": {},
   "outputs": [
    {
     "data": {
      "image/png": "[encoded data removed]",
      "text/plain": [
       "<Figure size 432x288 with 2 Axes>"
      ]
     },
     "metadata": {
      "needs_background": "light"
     },
     "output_type": "display_data"
    }
   ],
   "source": [
    "#animation of positions of particles w density\n",
    "cmap = plt.cm.get_cmap('RdYlGn_r')\n",
    "n = 100\n",
    "x0 = grid(n, rho = 1)\n",
    "x_list, y_list, rho_list = trajectory_den(ro, x0, 0, 5e11, 2.5e9, eps=0.01)\n",
    "\n",
    "r = sorted([rho[-1] for rho in rho_list])\n",
    "M = r[floor(n*n*0.9)]\n",
    "m = r[0]\n",
    "\n",
    "fig, ax = plt.subplots(1)\n",
    "ax.set(xlim=(-np.pi, np.pi), ylim=(-np.pi, np.pi))\n",
    "\n",
    "def init_func():\n",
    "    plt.cla()\n",
    "\n",
    "def update_plot(i):\n",
    "    plt.cla()\n",
    "\n",
    "    x_traj = []\n",
    "    for coord_list in x_list:\n",
    "        x_traj.append(coord_list[i])\n",
    "    y_traj = []\n",
    "    for coord_list in y_list:\n",
    "        y_traj.append(coord_list[i])\n",
    "    rho = []\n",
    "    for coord_list in rho_list:\n",
    "        rho.append(coord_list[i])\n",
    "    ax.set(xlim=(-np.pi, np.pi), ylim=(-np.pi, np.pi))\n",
    "    plt.scatter(x_traj, y_traj, c=rho, cmap=cmap, s=0.1, vmax=M, vmin=m)\n",
    "    if i == 0:\n",
    "        plt.colorbar()\n",
    "\n",
    "anim = FuncAnimation(fig, update_plot, frames=np.arange(0, len(x_list[0])), init_func=init_func)\n",
    "\n",
    "writergif = PillowWriter(fps=30)\n",
    "anim.save('testing.gif', writer=writergif)"
   ]
  }
 ],
 "metadata": {
  "interpreter": {
   "hash": "3067ead486e059ec00ffe7555bdb889e6e264a24dc711bf108106cc7baee8d5d"
  },
  "kernelspec": {
   "display_name": "Python 3.8.3 ('base')",
   "language": "python",
   "name": "python3"
  },
  "language_info": {
   "codemirror_mode": {
    "name": "ipython",
    "version": 3
   },
   "file_extension": ".py",
   "mimetype": "text/x-python",
   "name": "python",
   "nbconvert_exporter": "python",
   "pygments_lexer": "ipython3",
   "version": "3.8.3"
  },
  "orig_nbformat": 4
 },
 "nbformat": 4,
 "nbformat_minor": 2
}
